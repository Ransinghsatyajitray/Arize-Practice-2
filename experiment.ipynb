{
 "cells": [
  {
   "cell_type": "markdown",
   "id": "1d7c5692",
   "metadata": {},
   "source": [
    "## Install & import Arize SDK"
   ]
  },
  {
   "cell_type": "code",
   "execution_count": 1,
   "id": "3221df0a",
   "metadata": {},
   "outputs": [],
   "source": [
    "from arize.pandas.logger import Client, Schema\n",
    "from arize.utils.types import ModelTypes, Environments\n",
    "import pandas as pd\n",
    "import os\n"
   ]
  },
  {
   "cell_type": "markdown",
   "id": "5490b421",
   "metadata": {},
   "source": [
    "# Load the dataset"
   ]
  },
  {
   "cell_type": "code",
   "execution_count": null,
   "id": "cded1fc4",
   "metadata": {},
   "outputs": [],
   "source": [
    "df = pd.read_excel(\"arize_multiclass_demo.xlsx\")  # require openpyxl\n"
   ]
  },
  {
   "cell_type": "code",
   "execution_count": 6,
   "id": "e1a5fd25",
   "metadata": {},
   "outputs": [
    {
     "data": {
      "text/html": [
       "<div>\n",
       "<style scoped>\n",
       "    .dataframe tbody tr th:only-of-type {\n",
       "        vertical-align: middle;\n",
       "    }\n",
       "\n",
       "    .dataframe tbody tr th {\n",
       "        vertical-align: top;\n",
       "    }\n",
       "\n",
       "    .dataframe thead th {\n",
       "        text-align: right;\n",
       "    }\n",
       "</style>\n",
       "<table border=\"1\" class=\"dataframe\">\n",
       "  <thead>\n",
       "    <tr style=\"text-align: right;\">\n",
       "      <th></th>\n",
       "      <th>prediction_id</th>\n",
       "      <th>timestamp</th>\n",
       "      <th>cat_binary</th>\n",
       "      <th>cat_multi</th>\n",
       "      <th>numeric_1</th>\n",
       "      <th>numeric_2</th>\n",
       "      <th>ordinal_1</th>\n",
       "      <th>ordinal_2</th>\n",
       "      <th>actual_label</th>\n",
       "      <th>pred_prob_class1</th>\n",
       "      <th>pred_prob_class2</th>\n",
       "      <th>pred_prob_class3</th>\n",
       "      <th>prediction_label</th>\n",
       "    </tr>\n",
       "  </thead>\n",
       "  <tbody>\n",
       "    <tr>\n",
       "      <th>0</th>\n",
       "      <td>1</td>\n",
       "      <td>2025-07-01 00:00:00</td>\n",
       "      <td>yes</td>\n",
       "      <td>B</td>\n",
       "      <td>0.178</td>\n",
       "      <td>97.15</td>\n",
       "      <td>1</td>\n",
       "      <td>4</td>\n",
       "      <td>class1</td>\n",
       "      <td>0.3943</td>\n",
       "      <td>0.0784</td>\n",
       "      <td>0.5273</td>\n",
       "      <td>class3</td>\n",
       "    </tr>\n",
       "    <tr>\n",
       "      <th>1</th>\n",
       "      <td>2</td>\n",
       "      <td>2025-07-01 00:01:00</td>\n",
       "      <td>no</td>\n",
       "      <td>C</td>\n",
       "      <td>-1.335</td>\n",
       "      <td>33.13</td>\n",
       "      <td>2</td>\n",
       "      <td>4</td>\n",
       "      <td>class2</td>\n",
       "      <td>0.0314</td>\n",
       "      <td>0.6557</td>\n",
       "      <td>0.3130</td>\n",
       "      <td>class2</td>\n",
       "    </tr>\n",
       "    <tr>\n",
       "      <th>2</th>\n",
       "      <td>3</td>\n",
       "      <td>2025-07-01 00:02:00</td>\n",
       "      <td>yes</td>\n",
       "      <td>A</td>\n",
       "      <td>0.380</td>\n",
       "      <td>48.20</td>\n",
       "      <td>3</td>\n",
       "      <td>2</td>\n",
       "      <td>class2</td>\n",
       "      <td>0.0965</td>\n",
       "      <td>0.6992</td>\n",
       "      <td>0.2042</td>\n",
       "      <td>class2</td>\n",
       "    </tr>\n",
       "    <tr>\n",
       "      <th>3</th>\n",
       "      <td>4</td>\n",
       "      <td>2025-07-01 00:03:00</td>\n",
       "      <td>yes</td>\n",
       "      <td>A</td>\n",
       "      <td>0.611</td>\n",
       "      <td>19.61</td>\n",
       "      <td>2</td>\n",
       "      <td>6</td>\n",
       "      <td>class1</td>\n",
       "      <td>0.6400</td>\n",
       "      <td>0.3455</td>\n",
       "      <td>0.0145</td>\n",
       "      <td>class1</td>\n",
       "    </tr>\n",
       "    <tr>\n",
       "      <th>4</th>\n",
       "      <td>5</td>\n",
       "      <td>2025-07-01 00:04:00</td>\n",
       "      <td>yes</td>\n",
       "      <td>A</td>\n",
       "      <td>0.560</td>\n",
       "      <td>61.08</td>\n",
       "      <td>4</td>\n",
       "      <td>3</td>\n",
       "      <td>class2</td>\n",
       "      <td>0.0707</td>\n",
       "      <td>0.7903</td>\n",
       "      <td>0.1390</td>\n",
       "      <td>class2</td>\n",
       "    </tr>\n",
       "  </tbody>\n",
       "</table>\n",
       "</div>"
      ],
      "text/plain": [
       "   prediction_id           timestamp cat_binary cat_multi  numeric_1  \\\n",
       "0              1 2025-07-01 00:00:00        yes         B      0.178   \n",
       "1              2 2025-07-01 00:01:00         no         C     -1.335   \n",
       "2              3 2025-07-01 00:02:00        yes         A      0.380   \n",
       "3              4 2025-07-01 00:03:00        yes         A      0.611   \n",
       "4              5 2025-07-01 00:04:00        yes         A      0.560   \n",
       "\n",
       "   numeric_2  ordinal_1  ordinal_2 actual_label  pred_prob_class1  \\\n",
       "0      97.15          1          4       class1            0.3943   \n",
       "1      33.13          2          4       class2            0.0314   \n",
       "2      48.20          3          2       class2            0.0965   \n",
       "3      19.61          2          6       class1            0.6400   \n",
       "4      61.08          4          3       class2            0.0707   \n",
       "\n",
       "   pred_prob_class2  pred_prob_class3 prediction_label  \n",
       "0            0.0784            0.5273           class3  \n",
       "1            0.6557            0.3130           class2  \n",
       "2            0.6992            0.2042           class2  \n",
       "3            0.3455            0.0145           class1  \n",
       "4            0.7903            0.1390           class2  "
      ]
     },
     "execution_count": 6,
     "metadata": {},
     "output_type": "execute_result"
    }
   ],
   "source": [
    "df.head(5)\n"
   ]
  },
  {
   "cell_type": "markdown",
   "id": "2982ebe3",
   "metadata": {},
   "source": [
    "# Create an authenticated Arize client"
   ]
  },
  {
   "cell_type": "code",
   "execution_count": 8,
   "id": "e76b1a0a",
   "metadata": {},
   "outputs": [],
   "source": [
    "ARIZE_SPACE_KEY = os.getenv(\"ak-c94820cd-dfaa-4d5c-b012-0427864223d9-eTiIIBAsvLLtdwxFaSIYiEUQerXDqVfX\")\n",
    "ARIZE_API_KEY   = os.getenv(\"U3BhY2U6MjE5NTE6SnVvTA==\")\n",
    "\n",
    "arize_client = Client(space_key=ARIZE_SPACE_KEY, api_key=ARIZE_API_KEY)\n"
   ]
  },
  {
   "cell_type": "markdown",
   "id": "57b908e2",
   "metadata": {},
   "source": [
    "Diff between api key and space key \\\n",
    "What when and how does project created?\\\n",
    "Does creating new project changes space key?\\\n",
    "What does model in new project or model section?\n"
   ]
  },
  {
   "cell_type": "markdown",
   "id": "7d177b7a",
   "metadata": {},
   "source": [
    "# Define the model schema"
   ]
  }
 ],
 "metadata": {
  "kernelspec": {
   "display_name": "venv",
   "language": "python",
   "name": "python3"
  },
  "language_info": {
   "codemirror_mode": {
    "name": "ipython",
    "version": 3
   },
   "file_extension": ".py",
   "mimetype": "text/x-python",
   "name": "python",
   "nbconvert_exporter": "python",
   "pygments_lexer": "ipython3",
   "version": "3.12.1"
  }
 },
 "nbformat": 4,
 "nbformat_minor": 5
}
